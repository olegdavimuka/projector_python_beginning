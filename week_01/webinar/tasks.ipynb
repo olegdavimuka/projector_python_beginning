{
 "cells": [
  {
   "cell_type": "markdown",
   "source": [
    "# Контекст та цілі\n",
    "\n",
    "0. Формат роботи\n",
    " - Доопрацювання ДЗ\n",
    " - Git та GitHub\n",
    " - Питання?\n",
    "1. Що ми сьогодні робитимемо?\n",
    " - Вирішення задач\n",
    "2. Для чого ми це робитимемо?\n",
    " - Закріпити вивчене про типи даних\n",
    "3. Як це вписується в те ще було до чи буде після?\n",
    " - Все починається з типу даних, з якими ви оперуєте"
   ],
   "metadata": {
    "id": "xa5bHRHVwmJd"
   }
  },
  {
   "cell_type": "markdown",
   "source": [
    "# Practice\n",
    "\n",
    "[Random](https://pickerwheel.com/pw?id=wRYxj)\n",
    "\n",
    "[Link](https://colab.research.google.com/drive/1mK9-ScMYD_g3dv1LDDV8ngNsUEgRPT2B#scrollTo=erJ64xDQDi7a)"
   ],
   "metadata": {
    "id": "erJ64xDQDi7a"
   }
  },
  {
   "cell_type": "code",
   "source": [
    "# 1. Convert a snake_case string to a camelCase string\n",
    "\n",
    "input_str = \"this_is_snake_case\"\n",
    "\n",
    "words = input_str.split(\"_\")\n",
    "result = words[0] + ''.join([word.capitalize() for word in words[1:]])\n",
    "\n",
    "expected = \"thisIsSnakeCase\"\n",
    "print(\"camelCase string: \", result)\n",
    "print(result == expected) # should be True"
   ],
   "metadata": {
    "id": "0RwZQ5VwDoFj"
   },
   "execution_count": null,
   "outputs": []
  },
  {
   "cell_type": "code",
   "source": [
    "# 2. Count the number of words in a string\n",
    "\n",
    "sentence = \"This is a sample sentence with spaces.\"\n",
    "\n",
    "words = sentence.split()\n",
    "word_count = len(words)\n",
    "\n",
    "expected = 7\n",
    "print(\"Number of words:\", word_count)\n",
    "print(word_count == expected) # should be True"
   ],
   "metadata": {
    "id": "ewrnGpu_FxTp"
   },
   "execution_count": null,
   "outputs": []
  },
  {
   "cell_type": "code",
   "source": [
    "# 3. Replace Multiple Spaces with a Single Space\n",
    "\n",
    "sentence = \"This   is a    sample   sentence with spaces.\"\n",
    "\n",
    "res = ' '.join(sentence.split())\n",
    "\n",
    "expected = \"This is a sample sentence with spaces.\"\n",
    "print(\"Sentence with single spaces: \", res)\n",
    "print(res == expected) # should be True"
   ],
   "metadata": {
    "id": "sNd6plqgF1Qy"
   },
   "execution_count": null,
   "outputs": []
  },
  {
   "cell_type": "code",
   "source": [
    "# 4. Check if the string is a palindrome\n",
    "\n",
    "def is_palindrome(word):\n",
    "  return word == word[::-1]\n",
    "\n",
    "input_str_1 = \"Fox\"\n",
    "input_str_2 = \"level\"\n",
    "\n",
    "is_palindrome_1 = is_palindrome(input_str_1)\n",
    "is_palindrome_2 = is_palindrome(input_str_2)\n",
    "\n",
    "print(\"Is input_str_1 a palindrome?\", is_palindrome_1)  # should be False\n",
    "print(\"Is input_str_2 a palindrome?\", is_palindrome_2)  # should be True"
   ],
   "metadata": {
    "id": "JNN_dBOkF2jY"
   },
   "execution_count": null,
   "outputs": []
  },
  {
   "cell_type": "code",
   "source": [
    "# 5. Convert a camelCase string to a snake_case string\n",
    "\n",
    "input_str = \"thisIsCamelCase\"\n",
    "\n",
    "result = \"\"\n",
    "\n",
    "expected = \"this_is_camel_case\"\n",
    "print(\"snake_case string: \", result)\n",
    "print(result == expected) # should be True"
   ],
   "metadata": {
    "id": "Fy57LeiPNBra"
   },
   "execution_count": null,
   "outputs": []
  },
  {
   "cell_type": "code",
   "source": [
    "# 6. Count the number of characters excluding spaces\n",
    "\n",
    "sentence = \"This is a sample sentence with spaces.\"\n",
    "\n",
    "char_count = \"\"\n",
    "\n",
    "expected = 31\n",
    "print(\"Number of characters excluding spaces:\", char_count)\n",
    "print(char_count == expected) # should be True"
   ],
   "metadata": {
    "id": "yYvqwMk1NBfm"
   },
   "execution_count": null,
   "outputs": []
  },
  {
   "cell_type": "code",
   "source": [
    "# 7. Remove all vowels from a string\n",
    "\n",
    "input_str = \"This is a sample sentence with vowels.\"\n",
    "\n",
    "result = \"\"\n",
    "\n",
    "expected = \"Ths s  smpl sntnc wth vwls.\"\n",
    "print(\"String without vowels: \", result)\n",
    "print(result == expected) # should be True"
   ],
   "metadata": {
    "id": "G6fS7gM8NA9U"
   },
   "execution_count": null,
   "outputs": []
  },
  {
   "cell_type": "markdown",
   "source": [
    "# Links\n",
    "\n",
    "[Date Types](https://python.plainenglish.io/python-data-types-everything-you-need-to-know-in-one-simple-guide-1f126d7d0edb)\n",
    "\n",
    "[Strings](https://python.plainenglish.io/python-strings-concatenating-splitting-reversing-comparing-json-converting-and-more-450d23401733)"
   ],
   "metadata": {
    "id": "669-QPauYdvE"
   }
  },
  {
   "cell_type": "markdown",
   "source": [
    "# Що далі?\n",
    "\n",
    "1. Conditions and Loops\n",
    "2. Functions"
   ],
   "metadata": {
    "id": "etYfiAfAJAQK"
   }
  }
 ],
 "metadata": {
  "language_info": {
   "name": "python"
  },
  "orig_nbformat": 4,
  "colab": {
   "provenance": []
  },
  "kernelspec": {
   "name": "python3",
   "display_name": "Python 3"
  }
 },
 "nbformat": 4,
 "nbformat_minor": 0
}
