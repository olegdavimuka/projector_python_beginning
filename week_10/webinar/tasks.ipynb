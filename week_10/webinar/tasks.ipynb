{
  "cells": [
    {
      "cell_type": "markdown",
      "source": [
        "# Контекст та цілі\n",
        "\n",
        "1. Що ми сьогодні робитимемо?\n",
        " - Повторення на практиці всіх тем, що були пройдені за минулі 10 тижнів.\n",
        "2. Для чого ми це робитимемо?\n",
        " - Це останній тематичний вебінар курсу, будемо намагатись зробити його більш ігровим і не надто складним.\n",
        "3. Як це вписується в те ще було до чи буде після?\n",
        " - Припускаю, що ви активно працюєте над курсовим проєктом."
      ],
      "metadata": {
        "id": "xa5bHRHVwmJd"
      }
    },
    {
      "cell_type": "markdown",
      "source": [
        "# Practice\n",
        "\n",
        "[bingo](https://www.notion.so/prjctr/Bingo-Questions-d43cfef179774ee797d7c7df996c951f)\n",
        "\n",
        "[answers](https://www.notion.so/prjctr/Bingo-Questions-and-answers-911fcccd8fb647f39660c3acd90cc8f3)\n",
        "\n",
        "- Ваше завдання:\n",
        "  - Розділяємось на невеликі групи (2-4 людей)\n",
        "  - Команда, яка перша збере:\n",
        "    - цілий рядок - (1, 1), (1, 2), (1, 3), (1, 4) або аналогічно 2, 3 або 4 рядок\n",
        "    - або цілу колонку - (1, 1), (2, 1), (3, 1), (4, 1) або аналогічно 2, 3 або 4 колонку\n",
        "    - або діагональ - (1, 1), (2, 2), (3, 3), (4, 4) або (1, 4), (2, 3), (3, 2), (4, 1)\n",
        "  - перемагає, і гра закінчується.\n",
        "\n",
        "  - Після цього, збираємось назад у спільній кімнаті та розглядаємо питання."
      ],
      "metadata": {
        "id": "erJ64xDQDi7a"
      }
    },
    {
      "cell_type": "markdown",
      "source": [
        "# Що далі?\n",
        "\n",
        "- 09.04 Здача курсових проектів"
      ],
      "metadata": {
        "id": "etYfiAfAJAQK"
      }
    },
    {
      "cell_type": "markdown",
      "source": [
        "# Homework\n",
        "\n",
        "Вам потрібно покрити тестами одне з попередньох завдань - Ancient.\n",
        "\n",
        "[link](https://www.notion.so/prjctr/Milestone-10-Ancient-Inc-3-654812ae94c345b2b3cf8fba18e804cf)"
      ],
      "metadata": {
        "id": "SINUAdyvR6Dn"
      }
    }
  ],
  "metadata": {
    "language_info": {
      "name": "python"
    },
    "orig_nbformat": 4,
    "colab": {
      "provenance": []
    },
    "kernelspec": {
      "name": "python3",
      "display_name": "Python 3"
    }
  },
  "nbformat": 4,
  "nbformat_minor": 0
}