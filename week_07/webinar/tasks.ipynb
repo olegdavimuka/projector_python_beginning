{
  "cells": [
    {
      "cell_type": "markdown",
      "source": [
        "# Контекст та цілі\n",
        "\n",
        "1. Що ми сьогодні робитимемо?\n",
        " - Робота в парах\n",
        "2. Для чого ми це робитимемо?\n",
        " - Цей вебінар присвячений закріпленню навичок роботи з HTTP запитами та базового розуміння клієнт-серверної архітектури\n",
        "3. Як це вписується в те ще було до чи буде після?\n",
        " - web-програмування найчастіша сфера застосування python, а навіть якщо вас цікавить інша сфера, розуміння клієнт-серверної архітектури є обовʼязковим для будь-якого спеціаліста"
      ],
      "metadata": {
        "id": "xa5bHRHVwmJd"
      }
    },
    {
      "cell_type": "markdown",
      "source": [
        "# Practice\n",
        "\n",
        "## Завдання\n",
        "Написати клієнт-серверний застосунок бібліотеки з таким функціоналом (можна обрати будь-яку предметну область замість цієї):\n",
        "- Клієнт може робити пошук книг по автору або по назві.\n",
        "- Клієнт, маючи ID книги, може взяти її собі, якщо ніхто інший на ці дати її не взяв.\n",
        "\n",
        "### План\n",
        "- Одна людина створює порожній dummy проект із flask та requests в різних папках - `server` та `client`.\n",
        "- Ця людина комітить проєкт та завантажує на гітхаб.\n",
        "- Далі необхідно домовитись про інтерфейс запитів для покриття двох use cases наведених вище, наприклад:\n",
        "\n",
        "```python\n",
        "### Request\n",
        "GET /books?author=Jack%London\n",
        "\n",
        "### Response\n",
        "status code: 200/404\n",
        "Content-Type: application/json\n",
        "\n",
        "[\n",
        "  {\"id\": 1, \"author\": \"Jack London\", title: \"The Call of the Wild\"},\n",
        "  {\"id\": 2, \"author\": \"Jack London\", title: \"White Fang\"},\n",
        "  {\"id\": 3, \"author\": \"Jack London\", title: \"The Sea-Wolf\"}\n",
        "]\n",
        "\n",
        "### Request\n",
        "POST /rent\n",
        "Content-Type: application/json\n",
        "\n",
        "{\n",
        "  \"id\": 2,\n",
        "  \"start_date\": \"2024-01-01\",\n",
        "  \"end_date\": \"2024-01-31\"\n",
        "}\n",
        "\n",
        "### Response\n",
        "status code: 400/200\n",
        "Content-Type: application/json\n",
        "\n",
        "{\n",
        "  \"message\": \"The book is already rented for these dates\"\n",
        "}\n",
        "```\n",
        "        \n",
        "- Людина яка робить клієнт, скоріше за все впорається швидше. Вона має завантажити на github свої зміни та підключитись допомагати партнеру із сервером.\n",
        "\n",
        "### Результат\n",
        "\n",
        "- Папка server, в якій реалізована логіка для обробки двох запитів:\n",
        "  - GET запит для отримання списку книг по автору або по назві;\n",
        "  - POST запит для взяття книги в оренду;\n",
        "- Папка client, в якій реалізована логіка відправки запитів на вказані вище ендпоінти"
      ],
      "metadata": {
        "id": "erJ64xDQDi7a"
      }
    },
    {
      "cell_type": "markdown",
      "source": [
        "# Links\n",
        "\n",
        "- [Comparing API Architectures](https://python.plainenglish.io/rest-webhooks-graphql-grpc-and-others-choosing-the-perfect-api-architecture-for-your-9f2e46ab6864?sk=7b435b03aaceece5b9ddb1e64b1f7032)\n",
        "- [Comparing Python Frameworks](https://python.plainenglish.io/choosing-the-right-python-framework-django-vs-flask-vs-fastapi-vs-aiohttp-9e7d420501b6?sk=918e27717771b9b43d513b24ca6793ce)"
      ],
      "metadata": {
        "id": "voIe2-jVP5XV"
      }
    },
    {
      "cell_type": "markdown",
      "source": [
        "# Що далі?\n",
        "\n",
        "## Data\n",
        "\n",
        "- Manipulating Data\n",
        "- Intro to Data Analysis"
      ],
      "metadata": {
        "id": "etYfiAfAJAQK"
      }
    },
    {
      "cell_type": "markdown",
      "source": [
        "# Homework\n",
        "\n",
        "[link](https://www.notion.so/prjctr/Milestone-7-Ancient-Inc-2-14e4ddde7c5648768ba1650331858aae)"
      ],
      "metadata": {
        "id": "SINUAdyvR6Dn"
      }
    }
  ],
  "metadata": {
    "language_info": {
      "name": "python"
    },
    "orig_nbformat": 4,
    "colab": {
      "provenance": []
    },
    "kernelspec": {
      "name": "python3",
      "display_name": "Python 3"
    }
  },
  "nbformat": 4,
  "nbformat_minor": 0
}