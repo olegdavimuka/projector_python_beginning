{
  "cells": [
    {
      "cell_type": "markdown",
      "metadata": {
        "id": "K-xXkt9Ztf7J"
      },
      "source": [
        "# Assignment 7.1\n",
        "\n",
        "> Replace all TODOs with your code.\n",
        ">\n",
        "> Do not change any other code and do not add/remove cells!"
      ]
    },
    {
      "cell_type": "code",
      "execution_count": null,
      "metadata": {
        "id": "sGdc6BbbALg9"
      },
      "outputs": [],
      "source": [
        "# Do not edit this cell\n",
        "\n",
        "from typing import List, Dict"
      ]
    },
    {
      "cell_type": "markdown",
      "metadata": {
        "id": "cfhcjaX0vXXa"
      },
      "source": [
        "## Clients"
      ]
    },
    {
      "cell_type": "markdown",
      "metadata": {
        "id": "Vlz14hyr6wV6"
      },
      "source": [
        "### Task 1\n",
        "\n",
        "Write a function that takes a GitHub repository name as input and uses the [GitHub Repository API](https://docs.github.com/en/rest/repos) to retrieve and return information about the specified repository, including:\n",
        "\n",
        "* Repository Name\n",
        "* Owner\n",
        "* Description\n",
        "* License (if available)\n",
        "* Creation Date\n",
        "\n",
        "Use the `requests` module for this task."
      ]
    },
    {
      "cell_type": "code",
      "execution_count": null,
      "metadata": {
        "id": "vDYn-dRb7xIX"
      },
      "outputs": [],
      "source": [
        "def get_repository_info(repo_name: str) -> Dict[str, str]:\n",
        "    pass\n",
        "    # TODO\n",
        "\n",
        "get_repository_info(\"octocat/Hello-World\")"
      ]
    },
    {
      "cell_type": "markdown",
      "metadata": {
        "id": "0TC34gv79VEo"
      },
      "source": [
        "### Task 2\n",
        "\n",
        "Write a function that takes a GitHub repository name and uses the [GitHub Commits API](https://docs.github.com/en/rest/commits/commits) to retrieve and return information about the five most recent commits in a selected GitHub repository, including:\n",
        "* Commit Message\n",
        "* Author\n",
        "* Date\n",
        "* Link to the commit on GitHub\n",
        "\n",
        "Use the `requests` module for this task."
      ]
    },
    {
      "cell_type": "code",
      "execution_count": null,
      "metadata": {
        "id": "Kf2284dT-atu"
      },
      "outputs": [],
      "source": [
        "def get_recent_commits(repo_name: str) -> List[Dict[str, str]]:\n",
        "    pass\n",
        "    # TODO\n",
        "\n",
        "get_recent_commits(\"octocat/Hello-World\")"
      ]
    }
  ],
  "metadata": {
    "colab": {
      "provenance": []
    },
    "kernelspec": {
      "display_name": "Python 3",
      "name": "python3"
    },
    "language_info": {
      "name": "python"
    }
  },
  "nbformat": 4,
  "nbformat_minor": 0
}