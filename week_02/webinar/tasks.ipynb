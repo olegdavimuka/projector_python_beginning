{
 "cells": [
  {
   "cell_type": "markdown",
   "source": [
    "# Контекст та цілі\n",
    "\n",
    "0. Формат роботи\n",
    " - Кирилиця та латиниця\n",
    " - .py замість .ipynb\n",
    " - Питання?\n",
    "\n",
    "1. Що ми сьогодні робитимемо?\n",
    " - Самостійне вирішення задач\n",
    " - Колективне вирішення задач\n",
    "2. Для чого ми це робитимемо?\n",
    " - Цього тижня ви дізнались про базові структури програмування - цикли та умовні оператори. Знання цих концептів уже достатньо, щоб почати вирішувати алгоритмічні задачки. Саме цьому і присвячений цей вебінар.\n",
    "3. Як це вписується в те ще було до чи буде після?\n",
    " - Conditions and Loops - Control Flow, Functions - for anything that is used more than once."
   ],
   "metadata": {
    "id": "xa5bHRHVwmJd"
   }
  },
  {
   "cell_type": "markdown",
   "source": [
    "# Розігрів\n",
    "\n",
    "1. Починаємо із числа 12345.\n",
    "2. Якщо число парне, розділимо на 2.\n",
    "3. Якщо непарне - множимо на 3 та додамо 1.\n",
    "4. Повторюємо кроки 2 та 3 із результатом, допоки результат не буде дорівнювати 1.\n",
    "\n",
    "Написати в чат зум кількість кроків, що знадобилась, щоб перетворити 12345 у 1."
   ],
   "metadata": {
    "id": "2Jc7UAtjSoMm"
   }
  },
  {
   "cell_type": "markdown",
   "source": [
    "# Цікавий факт та імплементація на Python\n"
   ],
   "metadata": {
    "id": "jhNuRzGCSzVb"
   }
  },
  {
   "cell_type": "markdown",
   "source": [
    "Наведена задача також відома як [Гіпотеза Коллатца](https://uk.wikipedia.org/wiki/%D0%93%D1%96%D0%BF%D0%BE%D1%82%D0%B5%D0%B7%D0%B0_%D0%9A%D0%BE%D0%BB%D0%BB%D0%B0%D1%82%D1%86%D0%B0) - відома в математиці гіпотеза, яка каже, що з якого б натурального числа ми б не почали, ми завжди прийдемо до 1 за скінчену кількість кроків.\n",
    "\n",
    "Ця гіпотеза, хоч і виглядає простою, досі не була доведена."
   ],
   "metadata": {
    "id": "3Qk03AMzTkWf"
   }
  },
  {
   "cell_type": "code",
   "source": [
    "def collatz_sequence(n):\n",
    "    amount = 0\n",
    "    while n != 1:\n",
    "        amount += 1\n",
    "        print(n, end=' ')\n",
    "        if n % 2 == 0:\n",
    "            n = n // 2\n",
    "        else:\n",
    "            n = 3 * n + 1\n",
    "    print(1)\n",
    "    print(f\"The total amount of steps: {amount}\")\n",
    "\n",
    "start_number = 12345\n",
    "collatz_sequence(start_number)"
   ],
   "metadata": {
    "id": "d5umtw_xRN6s",
    "colab": {
     "base_uri": "https://localhost:8080/"
    },
    "outputId": "1bcc9000-3ed1-40e1-cd51-ee87578f5aa4"
   },
   "execution_count": null,
   "outputs": [
    {
     "output_type": "stream",
     "name": "stdout",
     "text": [
      "12345 37036 18518 9259 27778 13889 41668 20834 10417 31252 15626 7813 23440 11720 5860 2930 1465 4396 2198 1099 3298 1649 4948 2474 1237 3712 1856 928 464 232 116 58 29 88 44 22 11 34 17 52 26 13 40 20 10 5 16 8 4 2 1\n",
      "The total amount of steps: 50\n"
     ]
    }
   ]
  },
  {
   "cell_type": "markdown",
   "source": [
    "# Practice\n",
    "\n",
    "[Link](https://colab.research.google.com/drive/1SPMkMhuO92BO0IVKd_ZFLLkHAURgZ03L#scrollTo=erJ64xDQDi7a)\n",
    "\n",
    "[Random](https://pickerwheel.com/pw?id=wRYxj)\n"
   ],
   "metadata": {
    "id": "erJ64xDQDi7a"
   }
  },
  {
   "cell_type": "code",
   "source": [
    "# Sum of Digits\n",
    "\n",
    "# Write a program that takes an integer as input and calculates the sum of its digits.\n",
    "\n",
    "# For example, if the input is 1234, the output should be 10."
   ],
   "metadata": {
    "id": "ewrnGpu_FxTp",
    "colab": {
     "base_uri": "https://localhost:8080/"
    },
    "outputId": "f9a49b2e-8cb3-40c4-d358-4c2694086b98"
   },
   "execution_count": null,
   "outputs": [
    {
     "output_type": "stream",
     "name": "stdout",
     "text": [
      "Input your number: 123\n",
      "6\n"
     ]
    }
   ]
  },
  {
   "cell_type": "code",
   "source": [
    "# Factorial\n",
    "\n",
    "# Write a program that calculates the factorial of a given number.\n",
    "# The factorial of a number n is the product of all positive integers less than or equal to n.\n",
    "\n",
    "# For example, if the input is 5, the output should be 120 (since 5! = 5 * 4 * 3 * 2 * 1 = 120)."
   ],
   "metadata": {
    "id": "sNd6plqgF1Qy",
    "colab": {
     "base_uri": "https://localhost:8080/"
    },
    "outputId": "ece8f741-1387-4782-d812-6c40a6f6596b"
   },
   "execution_count": null,
   "outputs": [
    {
     "output_type": "stream",
     "name": "stdout",
     "text": [
      "The factorial of 5 is 120\n"
     ]
    }
   ]
  },
  {
   "cell_type": "code",
   "source": [
    "# Prime Number Check\n",
    "\n",
    "# Write a program that checks if a given number is prime. A prime number is a natural number greater than 1\n",
    "# that has no positive divisors other than 1 and itself. For example, if the input is 7, the output should be true."
   ],
   "metadata": {
    "id": "tk_hDv5Cpses"
   },
   "execution_count": null,
   "outputs": []
  },
  {
   "cell_type": "code",
   "source": [
    "# Fibonacci Sequence\n",
    "\n",
    "# Write a program that prints the Fibonacci sequence up to a given number of terms.\n",
    "# The Fibonacci sequence is a series of numbers in which each number is the sum of the two preceding ones.\n",
    "\n",
    "# For example, if the input is 8, the output should be 0, 1, 1, 2, 3, 5, 8, 13."
   ],
   "metadata": {
    "id": "JNN_dBOkF2jY"
   },
   "execution_count": null,
   "outputs": []
  },
  {
   "cell_type": "markdown",
   "source": [
    "# Links\n",
    "\n",
    "[Comprehensions](https://python.plainenglish.io/python-comprehensions-a-guide-to-writing-clean-and-efficient-code-99f1f568abff?sk=d3cb004ea8a8a0a25220a5f760a8e292)"
   ],
   "metadata": {
    "id": "669-QPauYdvE"
   }
  },
  {
   "cell_type": "markdown",
   "source": [
    "# Що далі?\n",
    "\n",
    "1. Scope (область видимості) and Tuples (кортеж)\n",
    "2. Lists (список)"
   ],
   "metadata": {
    "id": "etYfiAfAJAQK"
   }
  },
  {
   "cell_type": "markdown",
   "source": [
    "# Homework\n",
    "\n",
    "[link](https://www.notion.so/prjctr/Milestone-2-Secret-messages-457ca26017b745dfb598817949047c5c)"
   ],
   "metadata": {
    "id": "SINUAdyvR6Dn"
   }
  },
  {
   "cell_type": "markdown",
   "source": [
    "# Kahoot\n",
    "\n",
    "[Link](https://create.kahoot.it/details/b6070842-ce62-4e06-8814-28688d6576ad)"
   ],
   "metadata": {
    "id": "4V3QoAqwxkgv"
   }
  },
  {
   "metadata": {},
   "cell_type": "markdown",
   "source": ""
  }
 ],
 "metadata": {
  "language_info": {
   "name": "python"
  },
  "orig_nbformat": 4,
  "colab": {
   "provenance": [],
   "collapsed_sections": [
    "erJ64xDQDi7a"
   ]
  },
  "kernelspec": {
   "name": "python3",
   "display_name": "Python 3"
  }
 },
 "nbformat": 4,
 "nbformat_minor": 0
}
