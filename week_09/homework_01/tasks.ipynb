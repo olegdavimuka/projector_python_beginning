{
  "cells": [
    {
      "cell_type": "markdown",
      "metadata": {
        "id": "oY7M_WqQy7zz"
      },
      "source": [
        "# Assignment 9.1\n",
        "\n",
        "> Replace all TODOs with your code. Do not change any other code."
      ]
    },
    {
      "cell_type": "code",
      "execution_count": null,
      "metadata": {
        "id": "bymolQyG6lVT"
      },
      "outputs": [],
      "source": [
        "# Do not edit this cell\n",
        "\n",
        "import numpy as np\n",
        "import pandas as pd"
      ]
    },
    {
      "cell_type": "markdown",
      "metadata": {
        "id": "Jz8SYjAz0N8D"
      },
      "source": [
        "## Numpy"
      ]
    },
    {
      "cell_type": "markdown",
      "metadata": {
        "id": "IHwd1Zzby7z1"
      },
      "source": [
        "### Task 1\n",
        "\n",
        "Create a 1D numpy array with elements [1, 2, 3, 4, 5]. Do it in two different ways.\n"
      ]
    },
    {
      "cell_type": "code",
      "execution_count": null,
      "metadata": {
        "id": "UfB0dnXHy7z2",
        "tags": [
          "task_1a"
        ]
      },
      "outputs": [],
      "source": [
        "res = # TODO\n",
        "\n",
        "print(res)"
      ]
    },
    {
      "cell_type": "code",
      "execution_count": null,
      "metadata": {
        "id": "VtHGOji2zOfq",
        "tags": [
          "task_1b"
        ]
      },
      "outputs": [],
      "source": [
        "res2 = # TODO\n",
        "\n",
        "print(res2)"
      ]
    },
    {
      "cell_type": "markdown",
      "metadata": {
        "id": "lL-ELM-Ay7z2"
      },
      "source": [
        "### Task 2\n",
        "\n",
        "Create a 2D numpy array with shape (3, 5) filled with random integers between 1 and 100."
      ]
    },
    {
      "cell_type": "code",
      "execution_count": null,
      "metadata": {
        "id": "cibiSsjry7z3",
        "tags": [
          "task_2"
        ]
      },
      "outputs": [],
      "source": [
        "res3 = # TODO\n",
        "\n",
        "print(res3)"
      ]
    },
    {
      "cell_type": "markdown",
      "metadata": {
        "id": "Iagg2Xez6lVk"
      },
      "source": [
        "### Task 3\n",
        "\n",
        "Print the first row of array `res3`."
      ]
    },
    {
      "cell_type": "code",
      "execution_count": null,
      "metadata": {
        "tags": [
          "task_3"
        ],
        "id": "0Ug49s5l6lVm"
      },
      "outputs": [],
      "source": [
        "print(TODO)"
      ]
    },
    {
      "cell_type": "markdown",
      "metadata": {
        "id": "L-qS4zMn6lVn"
      },
      "source": [
        "### Task 4\n",
        "\n",
        "Access the last column of array `res3`. Assume that the array may be of any 2D shape."
      ]
    },
    {
      "cell_type": "code",
      "execution_count": null,
      "metadata": {
        "tags": [
          "task_4"
        ],
        "id": "XLdVpV8P6lVo"
      },
      "outputs": [],
      "source": [
        "print(TODO)"
      ]
    },
    {
      "cell_type": "markdown",
      "metadata": {
        "id": "saWNjvtKy7z3"
      },
      "source": [
        "### Task 5\n",
        "\n",
        "Find the min, max, and sum of elements of the second column of array `res3`."
      ]
    },
    {
      "cell_type": "code",
      "execution_count": null,
      "metadata": {
        "id": "V0T9Dybqy7z3",
        "tags": [
          "task_5a"
        ]
      },
      "outputs": [],
      "source": [
        "# Min\n",
        "res_min = # TODO\n",
        "\n",
        "print('min =', res_min)"
      ]
    },
    {
      "cell_type": "code",
      "execution_count": null,
      "metadata": {
        "id": "cs5yNlMDy7z3",
        "tags": [
          "task_5b"
        ]
      },
      "outputs": [],
      "source": [
        "# Max\n",
        "res_max = # TODO\n",
        "\n",
        "print('max =', res_max)"
      ]
    },
    {
      "cell_type": "code",
      "execution_count": null,
      "metadata": {
        "id": "iCRsMwrsy7z3",
        "tags": [
          "task_5c"
        ]
      },
      "outputs": [],
      "source": [
        "# Sum\n",
        "res_sum = # TODO\n",
        "\n",
        "print('sum =', res_sum)"
      ]
    },
    {
      "cell_type": "markdown",
      "metadata": {
        "id": "r47KggVa6lVr"
      },
      "source": [
        "### Task 6\n",
        "\n",
        "Tabulate the function\n",
        "\n",
        "$$f(x) = e^{2x}$$\n",
        "\n",
        "on interval `[0, 1]` with step 0.1.\n",
        "\n",
        "By \"tabulate\" we mean that we want to have a table (1D array), where on the first position we will have the function value for 0, on the second position 0.1, and so on."
      ]
    },
    {
      "cell_type": "code",
      "execution_count": null,
      "metadata": {
        "tags": [
          "task_6"
        ],
        "id": "hYvk0d3i6lVs"
      },
      "outputs": [],
      "source": [
        "x = # TODO\n",
        "f_x = # TODO\n",
        "\n",
        "print(f_x)"
      ]
    },
    {
      "cell_type": "markdown",
      "metadata": {
        "id": "5DzFkKwx0VI5"
      },
      "source": [
        "## Pandas\n",
        "\n",
        "We will be working on the classic dataset for beginner data scientists: Titanic passengers."
      ]
    },
    {
      "cell_type": "markdown",
      "metadata": {
        "id": "nP0LlORsy7z4"
      },
      "source": [
        "### Task 7\n",
        "\n",
        "Load the dataset from the following URL: https://web.stanford.edu/class/cs102/datasets/Titanic.csv"
      ]
    },
    {
      "cell_type": "code",
      "execution_count": null,
      "metadata": {
        "id": "RiIm_kUSy7z4",
        "tags": [
          "task_7"
        ]
      },
      "outputs": [],
      "source": [
        "df = # TODO"
      ]
    },
    {
      "cell_type": "markdown",
      "metadata": {
        "id": "hU1yDEnzy7z4"
      },
      "source": [
        "### Task 8\n",
        "\n",
        "Let's see the series/columns present in the data frame.\n",
        "\n",
        "Also, let's inspect the first ten rows of data."
      ]
    },
    {
      "cell_type": "code",
      "execution_count": null,
      "metadata": {
        "id": "8sOSsdKiy7z4",
        "tags": [
          "task_8a"
        ]
      },
      "outputs": [],
      "source": [
        "# TODO"
      ]
    },
    {
      "cell_type": "code",
      "execution_count": null,
      "metadata": {
        "tags": [
          "task_8b"
        ],
        "id": "L1d6Yscd6lVu"
      },
      "outputs": [],
      "source": [
        "# TODO"
      ]
    },
    {
      "cell_type": "markdown",
      "metadata": {
        "id": "NbbRIcyqy7z4"
      },
      "source": [
        "### Task 9\n",
        "\n",
        "Add a new column - full name - it should be a concat of the first and last name."
      ]
    },
    {
      "cell_type": "code",
      "execution_count": null,
      "metadata": {
        "tags": [
          "task_9"
        ],
        "id": "DJcQPHU36lVv"
      },
      "outputs": [],
      "source": [
        "# TODO"
      ]
    },
    {
      "cell_type": "markdown",
      "metadata": {
        "id": "UvRSBhXi6lVw"
      },
      "source": [
        "### Task 10\n",
        "\n",
        "Remove the two original columns - last, first."
      ]
    },
    {
      "cell_type": "code",
      "execution_count": null,
      "metadata": {
        "id": "2K8klEkzy7z4",
        "tags": [
          "task_10"
        ]
      },
      "outputs": [],
      "source": [
        "# TODO"
      ]
    },
    {
      "cell_type": "markdown",
      "metadata": {
        "id": "A431RdWp6lVw"
      },
      "source": [
        "### Task 11\n",
        "\n",
        "Calculate the total number of survivors in the dataset."
      ]
    },
    {
      "cell_type": "code",
      "execution_count": null,
      "metadata": {
        "tags": [
          "task_11"
        ],
        "id": "meTLWpz46lVx"
      },
      "outputs": [],
      "source": [
        "# TODO"
      ]
    }
  ],
  "metadata": {
    "colab": {
      "provenance": []
    },
    "kernelspec": {
      "display_name": "venv",
      "language": "python",
      "name": "python3"
    },
    "language_info": {
      "codemirror_mode": {
        "name": "ipython",
        "version": 3
      },
      "file_extension": ".py",
      "mimetype": "text/x-python",
      "name": "python",
      "nbconvert_exporter": "python",
      "pygments_lexer": "ipython3",
      "version": "3.9.6"
    },
    "orig_nbformat": 4
  },
  "nbformat": 4,
  "nbformat_minor": 0
}