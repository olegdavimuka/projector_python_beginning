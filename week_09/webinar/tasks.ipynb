{
  "cells": [
    {
      "cell_type": "markdown",
      "source": [
        "# Контекст та цілі\n",
        "\n",
        "1. Що ми сьогодні робитимемо?\n",
        " - Kahoot\n",
        " - Аналіз датасетів\n",
        "2. Для чого ми це робитимемо?\n",
        " - На цьому тижні ми знайомимось із Python for Data science — дуже поверхнево оглядаємо, які інструменти використовуються для аналізу даних.\n",
        "3. Як це вписується в те ще було до чи буде після?\n",
        " - Python широко використовується для аналізу, візуалізації та використання даних. Data Engineer, Data Scientist, Big Data - все це повʼязано з ріщними аспекатми роботи з даними."
      ],
      "metadata": {
        "id": "xa5bHRHVwmJd"
      }
    },
    {
      "cell_type": "markdown",
      "source": [
        "# Розігрів\n",
        "\n",
        "[Kahoot](https://create.kahoot.it/details/58e8cb01-805c-43c4-89b3-ffe7eb418b42)"
      ],
      "metadata": {
        "id": "FF7Fmo5hWfoZ"
      }
    },
    {
      "cell_type": "markdown",
      "source": [
        "# Practice\n",
        "\n",
        "[datasets](https://drive.google.com/file/d/1ENUeZ2JX7F0401Sg6GHT_QbKwX6LDlbg/view?usp=sharing)\n",
        "\n",
        "- Ваше завдання:\n",
        "    - Зібрати основні характеристики датасету — які змінні, що вони означають, метрики по цих змінних (mean, std).\n",
        "    - По кожній цікавій змінній — розподіл, як вона залежить від інших (можна показати scatter plot).\n",
        "\n",
        "- На що треба звернути увагу:\n",
        " - Правильної відповіді немає. Ціль завдання полягає в тому, щоб кожен студент спробував побудувати свої графіки.\n",
        " - Вашим домашнім завданням буде фіналізувати цей notebook, тому на воркшопі він може бути неохайний."
      ],
      "metadata": {
        "id": "erJ64xDQDi7a"
      }
    },
    {
      "cell_type": "markdown",
      "source": [
        "# Що далі?\n",
        "\n",
        "\n",
        "- Testing\n",
        "- Clean Code"
      ],
      "metadata": {
        "id": "etYfiAfAJAQK"
      }
    },
    {
      "cell_type": "markdown",
      "source": [
        "# Homework\n",
        "\n",
        "[link](https://www.notion.so/prjctr/Milestone-9-Explorers-59df5c0dc70944b0bae4a8904b37df8e)"
      ],
      "metadata": {
        "id": "SINUAdyvR6Dn"
      }
    }
  ],
  "metadata": {
    "language_info": {
      "name": "python"
    },
    "orig_nbformat": 4,
    "colab": {
      "provenance": []
    },
    "kernelspec": {
      "name": "python3",
      "display_name": "Python 3"
    }
  },
  "nbformat": 4,
  "nbformat_minor": 0
}