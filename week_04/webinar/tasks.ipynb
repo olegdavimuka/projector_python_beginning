{
 "cells": [
  {
   "metadata": {},
   "cell_type": "code",
   "outputs": [],
   "execution_count": null,
   "source": ""
  },
  {
   "cell_type": "markdown",
   "source": [
    "# Контекст та цілі\n",
    "\n",
    "0. Різне\n",
    " - Type Hints\n",
    "\n",
    "1. Що ми сьогодні робитимемо?\n",
    " - Kahoot\n",
    " - Командне вирішення задач\n",
    " - Колективне вирішення задач\n",
    "2. Для чого ми це робитимемо?\n",
    " - Цей вебінар присвячений роботі з новими структурами даних - set та dict, та зі складністю алгоритмів (Big O).\n",
    "3. Як це вписується в те ще було до чи буде після?\n",
    " - set та dict є базовими структурами даних, перша з яких дозволяє зберігати унікальні елементи, в той час як друга - набір пар ключ-значення. Складністю алгоритміув важливо розуміти для розуміння того, коли та як код можна зробити ефективніше та пришвидшити його виконання."
   ],
   "metadata": {
    "id": "xa5bHRHVwmJd"
   }
  },
  {
   "cell_type": "code",
   "source": [
    "from typing import Union\n",
    "\n",
    "a: int = 5\n",
    "\n",
    "a = \"Hello\"\n",
    "\n",
    "b = a / 10\n",
    "\n",
    "def add(a, b):\n",
    "  return a + b\n",
    "\n",
    "def add_with_type_hints(a: Union[int, float], b: int | float) -> int | float:\n",
    "  return a + b\n",
    "\n",
    "\n",
    "my_dict = {\"salary\": 1000}\n",
    "print(my_dict[\"salary\"])\n",
    "print(my_dict[\"some_non_existing_key\"])\n",
    "print(my_dict.get(\"salary\"))\n",
    "print(my_dict.get(\"some_non_existing_key\"))\n",
    "print(my_dict.get(\"some_non_existing_key\", \"Not found\"))"
   ],
   "metadata": {
    "colab": {
     "base_uri": "https://localhost:8080/"
    },
    "id": "QHVGjIonX292",
    "outputId": "69a22845-46fb-4b60-b611-da52fac1c86b",
    "ExecuteTime": {
     "end_time": "2025-02-19T19:22:47.541208Z",
     "start_time": "2025-02-19T19:22:47.527073Z"
    }
   },
   "outputs": [],
   "execution_count": 15
  },
  {
   "cell_type": "markdown",
   "source": [
    "# Kahoot\n",
    "\n",
    "[Link](https://create.kahoot.it/details/4cb0abfd-5abb-4855-9604-a12cf39f2735)"
   ],
   "metadata": {
    "id": "4V3QoAqwxkgv"
   }
  },
  {
   "cell_type": "markdown",
   "source": [
    "# Algorithms Complexity\n",
    "\n",
    "- Група 1: O(1) та O(n)\n",
    "- Група 2: O(n) та O(log n)\n",
    "- Група 3: O(n^2) та O(2^n)\n",
    "\n",
    "> Час на виконання: 15 хвилин.\n",
    "\n",
    "\n",
    "\n",
    "\n",
    "\n",
    "[Graph](https://www.desmos.com/calculator/ojumzuwb3r)"
   ],
   "metadata": {
    "id": "hOgcj2xRIFPd"
   }
  },
  {
   "cell_type": "code",
   "source": [
    "# Team 1\n",
    "\n",
    "# O(1)\n",
    "# Check if a number is even or odd.\n",
    "def is_even(number: int) -> bool:\n",
    "    return number % 2 == 0\n",
    "\n",
    "# O(n)\n",
    "# Calculating n-th term of reccurence relation: f(n) = 3*f(n-1) + f(n-2)^2\n",
    "# Hint: to obtain the complexity of O(n) you need to solve this using a list.\n",
    "def nth_term(number: int) -> int:\n",
    "    if number == 0:\n",
    "        return 0\n",
    "    if number == 1:\n",
    "        return 1\n",
    "    sequence = [0, 1]\n",
    "    for i in range(2, number + 1):\n",
    "        sequence.append(3 * sequence[i - 1] + sequence[i - 2] ** 2)\n",
    "    return sequence[number]"
   ],
   "metadata": {
    "id": "c2rXKf1JIJOs",
    "ExecuteTime": {
     "end_time": "2025-02-19T18:47:44.839129Z",
     "start_time": "2025-02-19T18:47:44.833853Z"
    }
   },
   "outputs": [],
   "execution_count": 14
  },
  {
   "cell_type": "code",
   "source": [
    "# Team 2\n",
    "\n",
    "# O(log n)\n",
    "# Binary search in a sorted array.\n",
    "def binary_search(numbers: list[int], target: int) -> int:\n",
    "    left = 0\n",
    "    right = len(numbers) - 1\n",
    "    while left <= right:\n",
    "        middle = (left + right) // 2\n",
    "        if numbers[middle] == target:\n",
    "            return middle\n",
    "        elif numbers[middle] < target:\n",
    "            left = middle + 1\n",
    "        else:\n",
    "            right = middle - 1\n",
    "    return -1\n",
    "\n",
    "# O(n)\n",
    "# Checking if an array contains any duplicate elements.\n",
    "# Hint: to obtain the complexity of O(n) you need to solve this using a set\n",
    "def has_duplicates(numbers: list[int]) -> bool:\n",
    "    seen = set()\n",
    "    for number in numbers:\n",
    "        if number in seen:\n",
    "            return True\n",
    "        seen.add(number)\n",
    "    return False"
   ],
   "metadata": {
    "id": "Gv9LoxL4ILwz"
   },
   "execution_count": null,
   "outputs": []
  },
  {
   "cell_type": "code",
   "source": [
    "# Team 3\n",
    "\n",
    "# O(n^2)\n",
    "# Checking if an array contains any duplicate elements.\n",
    "def has_duplicates_slow(numbers: list[int]) -> bool:\n",
    "    for i in range(len(numbers)):\n",
    "        for j in range(i + 1, len(numbers)):\n",
    "            if numbers[i] == numbers[j]:\n",
    "                return True\n",
    "    return False\n",
    "\n",
    "# O(2^n)\n",
    "# Calculating n-th term of reccurence relation: f(n) = 3*f(n-1) + f(n-2)^2\n",
    "def nth_term_slow(number: int) -> int:\n",
    "    if number == 0:\n",
    "        return 0\n",
    "    if number == 1:\n",
    "        return 1\n",
    "    return 3 * nth_term_slow(number - 1) + nth_term_slow(number - 2) ** 2"
   ],
   "metadata": {
    "id": "QnYhgLc_INhU",
    "ExecuteTime": {
     "end_time": "2025-02-19T19:23:24.995596Z",
     "start_time": "2025-02-19T19:23:24.990624Z"
    }
   },
   "outputs": [],
   "execution_count": 16
  },
  {
   "cell_type": "markdown",
   "source": "# Practice",
   "metadata": {
    "id": "erJ64xDQDi7a"
   }
  },
  {
   "cell_type": "code",
   "source": [
    "# Word Frequency Counter\n",
    "# Given a text document, count the frequency of each word in the document.\n",
    "# Input: \"This is a sample text. This text is a good example.\"\n",
    "# Output: {'This': 2, 'is': 2, 'a': 2, 'sample': 1, 'text': 2, 'good': 1, 'example': 1}"
   ],
   "metadata": {
    "id": "ewrnGpu_FxTp",
    "colab": {
     "base_uri": "https://localhost:8080/"
    },
    "outputId": "81cb7b9e-0992-4852-e9c9-ff7a7cf5eca4",
    "ExecuteTime": {
     "end_time": "2025-02-18T17:53:29.651614Z",
     "start_time": "2025-02-18T17:53:29.647913Z"
    }
   },
   "outputs": [],
   "execution_count": 3
  },
  {
   "cell_type": "code",
   "source": [
    "# Anagram Checker\n",
    "# Given two strings, check if they are anagrams, i.e. contain the same number of each letter\n",
    "# Input: \"listen\", \"silent\"\n",
    "# Output: True"
   ],
   "metadata": {
    "id": "sNd6plqgF1Qy",
    "colab": {
     "base_uri": "https://localhost:8080/"
    },
    "outputId": "ba105fad-d05a-4926-e4fe-347ca8cbe095",
    "ExecuteTime": {
     "end_time": "2025-02-18T17:53:17.062048Z",
     "start_time": "2025-02-18T17:53:17.051041Z"
    }
   },
   "outputs": [],
   "execution_count": 2
  },
  {
   "cell_type": "markdown",
   "source": [
    "# Що далі?\n",
    "\n",
    "1. Context Managers and Files\n",
    "2. Decorators"
   ],
   "metadata": {
    "id": "etYfiAfAJAQK"
   }
  },
  {
   "cell_type": "markdown",
   "source": [
    "# Homework\n",
    "\n",
    "[link](https://www.notion.so/prjctr/Milestone-4-Trade-offs-8985d0311aee4327910a4456e7963290)"
   ],
   "metadata": {
    "id": "SINUAdyvR6Dn"
   }
  }
 ],
 "metadata": {
  "language_info": {
   "name": "python"
  },
  "orig_nbformat": 4,
  "colab": {
   "provenance": [],
   "collapsed_sections": [
    "hOgcj2xRIFPd"
   ]
  },
  "kernelspec": {
   "name": "python3",
   "display_name": "Python 3 (ipykernel)",
   "language": "python"
  }
 },
 "nbformat": 4,
 "nbformat_minor": 0
}
