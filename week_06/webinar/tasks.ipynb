{
  "cells": [
    {
      "cell_type": "markdown",
      "source": [
        "# Контекст та цілі\n",
        "\n",
        "1. Що ми сьогодні робитимемо?\n",
        " - Kahoot\n",
        " - Git Feature Branch Workflow\n",
        " - Робота в команді\n",
        "2. Для чого ми це робитимемо?\n",
        " - Цей вебінар присвячений закріпленню навичок роботи з git та розуміння формату командної роботи над проектом.\n",
        "3. Як це вписується в те ще було до чи буде після?\n",
        " - git як система контролю версій використовується у будь-якому проекті тому важливо вміти правильно користуватись цим інструментом."
      ],
      "metadata": {
        "id": "xa5bHRHVwmJd"
      }
    },
    {
      "cell_type": "markdown",
      "source": [
        "# Kahoot\n",
        "\n",
        "[Link](https://create.kahoot.it/details/pb26-6/fc766133-ef46-4519-8c8a-c1b3b74e3a43)"
      ],
      "metadata": {
        "id": "stNwia-l2vJQ"
      }
    },
    {
      "cell_type": "markdown",
      "source": [
        "# Git Feature Branch Workflow\n",
        "\n",
        "[Link](https://github.com/new)"
      ],
      "metadata": {
        "id": "slosYwTu2xXI"
      }
    },
    {
      "cell_type": "markdown",
      "source": [
        "# Practice\n",
        "\n",
        "[Link](https://github.com/olegdavimuka/pb19_web6_task_manager)"
      ],
      "metadata": {
        "id": "--oSC5Qo24SY"
      }
    },
    {
      "cell_type": "markdown",
      "source": [
        "# Links\n",
        "\n",
        "- [Virtual Environment and pip Package Manager](https://python.plainenglish.io/python-virtual-environment-and-pip-package-manager-how-to-install-and-work-with-modules-86dff2cac2ed?sk=3ec96957afe505d91c5885153c1d7b7e)\n",
        "- [Git Cheat Sheet](https://python.plainenglish.io/essential-git-cheat-sheet-for-software-developers-70ffb62c924e?sk=9d13cbb284c69ef941f035cc987db2e6)"
      ],
      "metadata": {
        "id": "WFDCQI9z276B"
      }
    },
    {
      "cell_type": "markdown",
      "source": [
        "## OOP\n",
        "\n",
        "- Classes\n",
        "- Inheritance and Composition"
      ],
      "metadata": {
        "id": "BT2ZbSwH2_rT"
      }
    },
    {
      "cell_type": "markdown",
      "source": [
        "# Homework\n",
        "\n",
        "[link](https://www.notion.so/prjctr/Milestone-6-Bookkeeping-3a7b0ae65d644efdad13b997434491ef)"
      ],
      "metadata": {
        "id": "oEjyJ0Ma3GCn"
      }
    }
  ],
  "metadata": {
    "language_info": {
      "name": "python"
    },
    "orig_nbformat": 4,
    "colab": {
      "provenance": []
    },
    "kernelspec": {
      "name": "python3",
      "display_name": "Python 3"
    }
  },
  "nbformat": 4,
  "nbformat_minor": 0
}