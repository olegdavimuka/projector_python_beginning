{
  "cells": [
    {
      "cell_type": "markdown",
      "source": [
        "# Контекст та цілі\n",
        "\n",
        "1. Що ми сьогодні робитимемо?\n",
        " - Створення UML схем\n",
        " - Імплементація UML схем\n",
        "2. Для чого ми це робитимемо?\n",
        " - Закрпіплення навичок моделювання предметної області в парадигмі ООП, побудови UML діаграми предметної області, закріплення знань про класи та ООП на практиці.\n",
        "3. Як це вписується в те ще було до чи буде після?\n",
        " - ООП широко використовується в усіх сферах розробки, також ці знання можуть стати в нагоді для курсового проєкту."
      ],
      "metadata": {
        "id": "xa5bHRHVwmJd"
      }
    },
    {
      "cell_type": "markdown",
      "source": [
        "# Інтенсив\n",
        "\n",
        "Протягом 10 хвилин разом будуємо UML діаграму для такого випадку:\n",
        "\n",
        "- **Domain**: university\n",
        "  - **Use case**: save personal info about students and make sure administration can create a report.\n",
        "  - **Use case**: a student can take several courses in one semester, professor can teach several courses, and there’s a schedule.\n",
        "  - **Use case**: administration can calculate GPA for any student for any period of time.\n",
        "\n",
        "[gist](https://gist.github.com/olegdavimuka/8b22478c5ed8b206bf2841234b1c55db)"
      ],
      "metadata": {
        "id": "Vlngy-c74cmI"
      }
    },
    {
      "cell_type": "markdown",
      "source": [
        "# Practice\n",
        "\n",
        "Імплементувати схему, що була розроблена під час інтенсиву.\n",
        "- Опис класів та атрибутів\n",
        "- Використання класів для різних use cases\n",
        "- Імплементувати magic methods, наприклад, для порівняння, красивого виводу, будь-що, що має сенс для цієї предметної області.\n",
        "- Додати use case, для якого буде потрібно використання staticmethod або property."
      ],
      "metadata": {
        "id": "erJ64xDQDi7a"
      }
    },
    {
      "cell_type": "markdown",
      "source": [
        "# Links\n",
        "\n",
        "- [OOP Principles](https://python.plainenglish.io/oop-principles-made-easy-a-basic-guide-with-examples-dos-and-donts-ada4e606ed8e?sk=a1128b987b92f813a881915920bae3a2)\n",
        "- [Inheritance](https://python.plainenglish.io/inheritance-in-python-a-basic-guide-with-examples-5eba5e1f0731?sk=583ed301c12dbf1bee904f3efc11e1a6)\n",
        "- [Multiple Inheritance](https://python.plainenglish.io/multiple-inheritance-in-python-a-basic-guide-with-examples-124ee08e7f62?sk=463fc198c0f0beea5788a1f88da0b757)\n",
        "- [Abstract Classes](https://python.plainenglish.io/abstract-classes-in-python-how-to-upgrade-your-code-structure-and-consistency-fd0ede70534f?sk=dc729ef66729ce5b9acac5473cc14e3b)\n",
        "- [Metaclasses](https://python.plainenglish.io/metaclasses-in-python-a-quick-and-easy-guide-with-examples-b04b39999bc9?sk=30189357716a50cf604c68fdb8ed1e89)\n",
        "- [Magic Methods](https://python.plainenglish.io/magic-methods-in-python-a-basic-guide-to-controlling-class-behavior-bda3e27f4d58?sk=9740586172828162b52c4ce4222680c6)\n",
        "- [@property](https://python.plainenglish.io/attribute-management-using-property-in-python-a-basic-guide-with-examples-43f486bf8d88?sk=13ad67fa9411664e15fb1025ac3d02ab)\n"
      ],
      "metadata": {
        "id": "voIe2-jVP5XV"
      }
    },
    {
      "cell_type": "markdown",
      "source": [
        "# Що далі?\n",
        "\n",
        "- Testing\n",
        "- Clean Code"
      ],
      "metadata": {
        "id": "etYfiAfAJAQK"
      }
    },
    {
      "cell_type": "markdown",
      "source": [
        "# Homework\n",
        "\n",
        "[link](https://www.notion.so/prjctr/Milestone-8-Bookshelf-d76bcd0d2ac547eaa573726ecd485912)"
      ],
      "metadata": {
        "id": "SINUAdyvR6Dn"
      }
    }
  ],
  "metadata": {
    "language_info": {
      "name": "python"
    },
    "orig_nbformat": 4,
    "colab": {
      "provenance": []
    },
    "kernelspec": {
      "name": "python3",
      "display_name": "Python 3"
    }
  },
  "nbformat": 4,
  "nbformat_minor": 0
}