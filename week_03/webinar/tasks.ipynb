{
 "cells": [
  {
   "cell_type": "markdown",
   "source": [
    "# Контекст та цілі\n",
    "\n",
    "1. Що ми сьогодні робитимемо?\n",
    " - Kahoot\n",
    " - Колективне вирішення задач\n",
    "2. Для чого ми це робитимемо?\n",
    " - Цей вебінар присвячений роботі з областю видимості даних (scope) і такими структурами даних як списки та кортежі (tuples).\n",
    "3. Як це вписується в те ще було до чи буде після?\n",
    " - Списки та кортежі є одними з базових структур даних, які використовуються у Python для зберігання та роботи з данними."
   ],
   "metadata": {
    "id": "xa5bHRHVwmJd"
   }
  },
  {
   "cell_type": "markdown",
   "source": [
    "# Kahoot\n",
    "\n",
    "[Link](https://create.kahoot.it/details/76018679-57f1-4a6a-bed3-de65a8075acc)"
   ],
   "metadata": {
    "id": "4V3QoAqwxkgv"
   }
  },
  {
   "cell_type": "markdown",
   "source": [
    "# Practice\n",
    "\n",
    "[Link](https://colab.research.google.com/drive/1Lz_0wKV3mqBP7BI-CHJXU7MC3Vi_kR93#scrollTo=4ge2YqDpKoY7)\n",
    "\n",
    "[Random](https://pickerwheel.com/pw?id=wRYxj)"
   ],
   "metadata": {
    "id": "erJ64xDQDi7a"
   }
  },
  {
   "cell_type": "code",
   "source": [
    "# Intersection and merge of two sorted lists\n",
    "\n",
    "# a. Write a function that returns an intersection of two sorted lists of integers in non-decreasing order.\n",
    "# b. Write a function that returns a merge of two sorted lists of integers  in non-decreasing order.\n",
    "\n",
    "def intersection(a, b):\n",
    "    ...\n",
    "\n",
    "\n",
    "def merge(a, b):\n",
    "    ...\n",
    "\n",
    "\n",
    "a = [1, 2, 3]\n",
    "b = [2, 3, 4, 5, 6]\n",
    "\n",
    "print(intersection(a, b) == [2, 3])\n",
    "print(merge(a, b) == [1, 2, 2, 3, 3, 4, 5, 6])\n"
   ],
   "metadata": {
    "id": "ewrnGpu_FxTp"
   },
   "execution_count": null,
   "outputs": []
  },
  {
   "cell_type": "code",
   "source": [
    "# Move zeroes\n",
    "\n",
    "# Given an integer array nums, move all 0's to the end of it while maintaining the relative order of the non-zero elements.\n",
    "\n",
    "def move_zeroes(numbers):\n",
    "    ...\n",
    "\n",
    "nums = [0,1,0,3,12]\n",
    "print(move_zeroes(nums) == [1,3,12,0,0])"
   ],
   "metadata": {
    "id": "sNd6plqgF1Qy"
   },
   "execution_count": null,
   "outputs": []
  },
  {
   "cell_type": "code",
   "source": [
    "# Shuffle list\n",
    "\n",
    "# Given a list, shuffle it so that the elements from the second half appear\n",
    "# between the elements from the first half.\n",
    "\n",
    "def shuffle_list(numbers):\n",
    "    ...\n",
    "\n",
    "nums = [1, 2, 3, 4, 5, 6, 7, 8]\n",
    "\n",
    "print(shuffle_list(nums) == [1,5,2,6,3,7,4,8])"
   ],
   "metadata": {
    "id": "8_q8ItUuVoLr"
   },
   "execution_count": null,
   "outputs": []
  },
  {
   "cell_type": "code",
   "source": [
    "# Greatest common divisor of list\n",
    "\n",
    "# Given a list, find the greatest common divisor of all the elements in the list.\n",
    "\n",
    "def gcd_list(numbers):\n",
    "    ...\n",
    "\n",
    "nums = [16,32,4]\n",
    "\n",
    "print(gcd_list(nums) == 4)"
   ],
   "metadata": {
    "id": "JNN_dBOkF2jY"
   },
   "execution_count": null,
   "outputs": []
  },
  {
   "cell_type": "markdown",
   "source": [
    "# Links\n",
    "\n",
    "[Scopes](https://python.plainenglish.io/python-scopes-how-to-use-them-to-organize-your-variables-3bc506b0c609)"
   ],
   "metadata": {
    "id": "669-QPauYdvE"
   }
  },
  {
   "cell_type": "markdown",
   "source": [
    "# Що далі?\n",
    "\n",
    "1. Sets and Dictionaries\n",
    "2. Algorithms Complexity"
   ],
   "metadata": {
    "id": "etYfiAfAJAQK"
   }
  },
  {
   "cell_type": "markdown",
   "source": [
    "# Homework\n",
    "\n",
    "[link](https://www.notion.so/prjctr/Milestone-3-Pascal-s-Triangle-301733551d934af18d50d0031d9a43cb)"
   ],
   "metadata": {
    "id": "SINUAdyvR6Dn"
   }
  }
 ],
 "metadata": {
  "language_info": {
   "name": "python"
  },
  "orig_nbformat": 4,
  "colab": {
   "provenance": []
  },
  "kernelspec": {
   "name": "python3",
   "display_name": "Python 3"
  }
 },
 "nbformat": 4,
 "nbformat_minor": 0
}
