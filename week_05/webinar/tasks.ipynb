{
 "cells": [
  {
   "cell_type": "markdown",
   "source": [
    "# Контекст та цілі\n",
    "\n",
    "1. Що ми сьогодні робитимемо?\n",
    " - Кросворд\n",
    " - Колективне вирішення задач\n",
    "2. Для чого ми це робитимемо?\n",
    " - Цей вебінар присвячений повторенню всього першого модулю - основ Python, а також закріпленню тем минулого тижня - декоратори та робота з файлами.\n",
    "3. Як це вписується в те ще було до чи буде після?\n",
    " - Далі ми переходимо до другого модуля - Applied Python, в якому будемо навчатись застосовувати Python для створення повноцінних проектів та вирішення реальних завдань."
   ],
   "metadata": {
    "id": "xa5bHRHVwmJd"
   }
  },
  {
   "cell_type": "markdown",
   "source": [
    "# Crossword\n",
    "\n",
    "## Questions:\n",
    "\n",
    "Across\n",
    "- 2. A data type that represents real numbers in Python\n",
    "- 3. How do you determine the order in which variable names are looked up?\n",
    "- 6. I make decisions\n",
    "- 9. How do you compare algorithms?\n",
    "- 13. code question\n",
    "- 14. A function that modifies the behavior of other functions\n",
    "- 15. What function does a gatekeeper always use?\n",
    "\n",
    "Down\n",
    "- 1. (0, 10, 2) -> 0, 2, 4, 6, 8\n",
    "- 4. black and white\n",
    "- 5. You need a fast lookup by a specific immutable attribute, you would use ...\n",
    "- 7. Emptiness\n",
    "- 8. The worst-case time complexity of list.append() is\n",
    "- 10. A collection that does not allow duplicate elements\n",
    "- 11. I am used ... iteration of lists\n",
    "- 12. Ask me something\n",
    "\n",
    "[Edit](https://crosswordlabs.com/view/python-core)\n",
    "\n",
    "[Solve](https://crosswordlabs.com/embed/python-core)\n",
    "\n",
    "Answers:\n",
    "\n",
    "- range          (0, 10, 2) -> 0, 2, 4, 6, 8\n",
    "- bool           black and white\n",
    "- decorator      A function that modifies the behavior of other functions\n",
    "- none           Emptiness\n",
    "- legb           How do you determine the order in which variable names are looked up? (local - enclosing - global - built-in)\n",
    "- set            A collection that does not allow duplicate elements\n",
    "- dictionary     You need a fast lookup by a specific immutable attribute, you would use ...\n",
    "- if             I make decisions\n",
    "- float          A data type that represents real numbers in Python\n",
    "- complexity     How do you compare algorithms?\n",
    "- linear         The worst-case time complexity of list.append() is\n",
    "- input          Ask me something\n",
    "- keys           What function does a gatekeeper always use?\n",
    "- for            I am used ... iteration of lists\n",
    "- contextmanager code question - try: file           = open('name.txt, 'r' except         Exception: print('Error   occured')\n"
   ],
   "metadata": {
    "id": "rwM7wEY8ey4D"
   }
  },
  {
   "cell_type": "markdown",
   "source": [
    "# Practice"
   ],
   "metadata": {
    "id": "erJ64xDQDi7a"
   }
  },
  {
   "cell_type": "code",
   "source": [
    "# Problem 1: Timing Decorator\n",
    "\n",
    "# Create a decorator that can be applied to any function.\n",
    "# This decorator should measure and print the time it takes for the decorated\n",
    "# function to execute. Use the time module for measuring the execution time."
   ],
   "metadata": {
    "id": "ewrnGpu_FxTp"
   },
   "execution_count": null,
   "outputs": []
  },
  {
   "cell_type": "code",
   "source": [
    "# Problem 2: Word Counter\n",
    "\n",
    "# Write a Python program that takes a filename as input and counts the number of\n",
    "# occurrences for each word in the file. Write the word stats to a new file."
   ],
   "metadata": {
    "id": "sNd6plqgF1Qy"
   },
   "execution_count": null,
   "outputs": []
  },
  {
   "cell_type": "markdown",
   "source": [
    "# Курсовий проект\n",
    "\n",
    "[Документація](https://www.notion.so/prjctr/Project-Documentation-e76144f00f414035a0fe428a1e25d763)\n",
    "\n",
    "## Ідея\n",
    "- Проект полягає в написанні програми, яка контролюватиме бота у стратегічній грі\n",
    "- Бот який вам потрібно створити є веб сервером, який імплементує певні endpoints, щоб платформа могла комунікувати з ботом - це якраз інформація наступного тижня навчання, після якого можна буд починати роботу над проектом, а протягом тижня сформуються групи, створяться репозиторії, профілі на плафтормі, канали в Slack, тощо\n",
    "- В документації ви знайдете endpoints, які мають бути імплементовані у вашій програмі а також правила самої гри.\n",
    "- В грі змагаються за перемогу 2 сторони, перед закінченням курсу ми будемо проводити змагання усіх з усіма і сформуємо турнірну таблицю.\n",
    "\n",
    "\n",
    "## Деталі\n",
    "\n",
    "- Групи по 3-4 людини\n",
    "- Для кожної групи будуть сворені репозиторії на GitHub та канали в Slack\n",
    "- Захист курсового проекту - 09.04, на виконання у вас є 5 тижнів\n",
    "- Критерії зарахування:\n",
    "  - Команда вчасно здала бот, який імплементує GET /agent/id/action.\n",
    "  - Студент брав участь у розробці бота (видно з комітів на GitHub та спілкування в Slack каналах)\n",
    "\n",
    "[Платформа](https://python-beginning.prjctr.com/)"
   ],
   "metadata": {
    "id": "H7vFvH92eyVl"
   }
  },
  {
   "cell_type": "markdown",
   "source": [
    "# Links\n",
    "\n",
    "- [Decorators](https://python.plainenglish.io/python-decorators-a-quick-and-easy-guide-with-examples-d0648aa7ec60)\n",
    "- [Context Managers](https://python.plainenglish.io/context-managers-in-python-a-basic-guide-with-examples-28c858ed48ae)"
   ],
   "metadata": {
    "id": "zfVIEuvCfPKf"
   }
  },
  {
   "cell_type": "markdown",
   "source": [
    "# Що далі?\n",
    "\n",
    "1. API. Clients\n",
    "2. Servers"
   ],
   "metadata": {
    "id": "etYfiAfAJAQK"
   }
  },
  {
   "cell_type": "markdown",
   "source": [
    "# Homework\n",
    "\n",
    "[link](https://www.notion.so/prjctr/Milestone-5-Ancient-Inc-20eb1859222a42639bbff9c0182722cf)"
   ],
   "metadata": {
    "id": "SINUAdyvR6Dn"
   }
  }
 ],
 "metadata": {
  "language_info": {
   "name": "python"
  },
  "orig_nbformat": 4,
  "colab": {
   "provenance": []
  },
  "kernelspec": {
   "name": "python3",
   "display_name": "Python 3"
  }
 },
 "nbformat": 4,
 "nbformat_minor": 0
}
